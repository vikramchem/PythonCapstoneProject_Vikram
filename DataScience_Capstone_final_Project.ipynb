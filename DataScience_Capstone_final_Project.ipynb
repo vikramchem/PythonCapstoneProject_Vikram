{
 "cells": [
  {
   "cell_type": "markdown",
   "metadata": {},
   "source": [
    "# Using CDC data to provide valuable business idea to combat unhealthy behaviors\n",
    "### *Submitted by Vikram Seshadri*"
   ]
  },
  {
   "cell_type": "markdown",
   "metadata": {},
   "source": [
    "## Introduction\n",
    "Center for Disease Control collects census data on 500 major cities in the US every year. The dataset that they collected in 2018 includes 2015 and 2016 model-based small area estimates for 27 measures of chronic disease related to unhealthy behaviors, health outcomes, and preventive services [1]. \n",
    "\n",
    "CDC has identified obesity, less sleep (<7 hours a day), less physical activity, binge drinking, and smoking as unhealthy behaviors. These unhealthy behaviors are correctable by identifying the cause and motivating people to get into healthy habits. For example, obesity was identified as one of the unhealthy behaviors in the dataset. Obesity can be caused by eating unhealthy food, less physical activity, and lifestyle. All the three causes for obesity can be corrected by making good choices on food, signing up for gym/sports activity, and leading a good and healthy lifestyle. This project will focus on obesity, lack of sleep and physical activity for analysis.\n",
    "\n",
    "## Business problem\n",
    "The first problem would be to find the locations that are more seriously affected by the unhealthy behaviors in each of the categories such as obesity, less sleep, and physical inactivity. Once these places are identified, it would be pertinent to find out the reason for such high numbers in unhealthy behavior. For example, is it possible that there are many fast-food restaurants in places where there is an obesity problem? Similarly, is there a lack of gym/outdoor recreational facilities such as parks/trials to mitigate a lack of physical activity.\n",
    "Once the cause is found, there is an opportunity for the appropriate business startup in each of these locations to improve the quality of life long-term while being profitable. For example, setting up gymnasiums and sports complex in locations where there is a lack of physical activity is both profitable and improves the quality of life of people in that area.\n",
    "\n",
    "## Reference\n",
    "1. https://chronicdata.cdc.gov/500-Cities/500-Cities-Local-Data-for-Better-Health-2018-relea/6vp6-wxuq. (This is a project that was funded by the Robert Wood Johnson Foundation."
   ]
  },
  {
   "cell_type": "markdown",
   "metadata": {},
   "source": [
    "## Data\n",
    "The dataset used for this problem will be obtained from the CDC website as a CSV file. The data will be filtered to contain only the information on unhealthy behavior.\n",
    "The top 10 locations where each of the unhealthy behavior is prevalent will be taken for this project.\n",
    "Use the latitude and longitude locations of these locations and obtain the details of the venues, specifically the type of restaurants, gymnasium, yoga studio, and parks and recreations.\n",
    "Depending on the details of the venues (or the lack thereof), an appropriate business model for each location can be recommended. Tools such as K-Means clustering can be used to find out the locations that will benefit from similar businesses that can improve the lifestyle."
   ]
  },
  {
   "cell_type": "code",
   "execution_count": null,
   "metadata": {},
   "outputs": [],
   "source": []
  }
 ],
 "metadata": {
  "kernelspec": {
   "display_name": "Python 3",
   "language": "python",
   "name": "python3"
  },
  "language_info": {
   "codemirror_mode": {
    "name": "ipython",
    "version": 3
   },
   "file_extension": ".py",
   "mimetype": "text/x-python",
   "name": "python",
   "nbconvert_exporter": "python",
   "pygments_lexer": "ipython3",
   "version": "3.7.3"
  }
 },
 "nbformat": 4,
 "nbformat_minor": 2
}
